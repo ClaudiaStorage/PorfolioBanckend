{
  "cells": [
    {
      "cell_type": "markdown",
      "metadata": {
        "id": "view-in-github",
        "colab_type": "text"
      },
      "source": [
        "<a href=\"https://colab.research.google.com/github/ClaudiaStorage/PorfolioBanckend/blob/main/Copia_de_model_maker_speech_recognition.ipynb\" target=\"_parent\"><img src=\"https://colab.research.google.com/assets/colab-badge.svg\" alt=\"Open In Colab\"/></a>"
      ]
    },
    {
      "cell_type": "markdown",
      "metadata": {
        "id": "3XX46cTrh6iD"
      },
      "source": [
        "##### Copyright 2022 The TensorFlow Authors."
      ]
    },
    {
      "cell_type": "code",
      "execution_count": 1,
      "metadata": {
        "cellView": "form",
        "id": "sKrlWr6Kh-mF"
      },
      "outputs": [],
      "source": [
        "#@title Licensed under the Apache License, Version 2.0 (the \"License\");\n",
        "# you may not use this file except in compliance with the License.\n",
        "# You may obtain a copy of the License at\n",
        "#\n",
        "# https://www.apache.org/licenses/LICENSE-2.0\n",
        "#\n",
        "# Unless required by applicable law or agreed to in writing, software\n",
        "# distributed under the License is distributed on an \"AS IS\" BASIS,\n",
        "# WITHOUT WARRANTIES OR CONDITIONS OF ANY KIND, either express or implied.\n",
        "# See the License for the specific language governing permissions and\n",
        "# limitations under the License."
      ]
    },
    {
      "cell_type": "markdown",
      "metadata": {
        "id": "hST65kOHXpiL"
      },
      "source": [
        "# Retrain a speech recognition model with TensorFlow Lite Model Maker\n"
      ]
    },
    {
      "cell_type": "markdown",
      "metadata": {
        "id": "nShlCXGkbRVA"
      },
      "source": [
        "<table class=\"tfo-notebook-buttons\" align=\"left\">\n",
        "  <td>\n",
        "    <a target=\"_blank\" href=\"https://www.tensorflow.org/lite/models/modify/model_maker/speech_recognition\"><img src=\"https://www.tensorflow.org/images/tf_logo_32px.png\" />View on TensorFlow.org</a>\n",
        "  </td>\n",
        "  <td>\n",
        "    <a target=\"_blank\" href=\"https://colab.research.google.com/github/tensorflow/tensorflow/blob/master/tensorflow/lite/g3doc/models/modify/model_maker/speech_recognition.ipynb\"><img src=\"https://www.tensorflow.org/images/colab_logo_32px.png\" />Run in Google Colab</a>\n",
        "  </td>\n",
        "  <td>\n",
        "    <a target=\"_blank\" href=\"https://github.com/tensorflow/tensorflow/blob/master/tensorflow/lite/g3doc/models/modify/model_maker/speech_recognition.ipynb\"><img src=\"https://www.tensorflow.org/images/GitHub-Mark-32px.png\" />View source on GitHub</a>\n",
        "  </td>\n",
        "  <td>\n",
        "    <a href=\"https://storage.googleapis.com/tensorflow_docs/tensorflow/tensorflow/lite/g3doc/models/modify/model_maker/speech_recognition.ipynb\"><img src=\"https://www.tensorflow.org/images/download_logo_32px.png\" />Download notebook</a>\n",
        "  </td>\n",
        "\n",
        "</table>"
      ]
    },
    {
      "cell_type": "markdown",
      "metadata": {
        "id": "BB5k6xNKJ5Xe"
      },
      "source": [
        "\n",
        "In this colab notebook, you'll learn how to use the [TensorFlow Lite Model Maker](https://www.tensorflow.org/lite/models/modify/model_maker) to train a speech recognition model that can classify spoken words or short phrases using one-second sound samples. The Model Maker library uses transfer learning to retrain an existing TensorFlow model with a new dataset, which reduces the amount of sample data and time required for training. \n",
        "\n",
        "By default, this notebook retrains the model (BrowserFft, from the [TFJS Speech Command Recognizer](https://github.com/tensorflow/tfjs-models/tree/master/speech-commands#speech-command-recognizer)) using a subset of words from the [speech commands dataset](https://www.tensorflow.org/datasets/catalog/speech_commands) (such as \"up,\" \"down,\" \"left,\" and \"right\"). Then it exports a TFLite model that you can run on a mobile device or embedded system (such as a Raspberry Pi). It also exports the trained model as a TensorFlow SavedModel.\n",
        "\n",
        "This notebook is also designed to accept a custom dataset of WAV files, uploaded to Colab in a ZIP file. The more samples you have for each class, the better your accuracy will be, but because the transfer learning process uses feature embeddings from the pre-trained model, you can still get a fairly accurate model with only a few dozen samples in each of your classes.\n",
        "\n",
        "**Note:** The model we'll be training is optimized for speech recognition with one-second samples. If you want to perform more generic audio classification (such as detecting different types of music), we suggest you instead follow [this Colab to retrain an audio classifier](https://colab.sandbox.google.com/github/tensorflow/tensorflow/blob/master/tensorflow/lite/g3doc/models/modify/model_maker/audio_classification.ipynb).\n",
        "\n",
        "If you want to run the notebook with the default speech dataset, you can run the whole thing now by clicking **Runtime > Run all** in the Colab toolbar. However, if you want to use your own dataset, then continue down to [Prepare the dataset](#scrollTo=cBsSAeYLkc1Z) and follow the instructions there.\n"
      ]
    },
    {
      "cell_type": "markdown",
      "metadata": {
        "id": "AeZZ_cSsZfPx"
      },
      "source": [
        "### Import the required packages\n"
      ]
    },
    {
      "cell_type": "markdown",
      "metadata": {
        "id": "MelHQlE7FVue"
      },
      "source": [
        "You'll need TensorFlow, TFLite Model Maker, and some modules for audio manipulation, playback, and visualizations."
      ]
    },
    {
      "cell_type": "code",
      "execution_count": 2,
      "metadata": {
        "id": "wbMc4vHjaYdQ",
        "colab": {
          "base_uri": "https://localhost:8080/",
          "height": 1000
        },
        "outputId": "de558e6a-b3f4-4030-c88a-d30f2a7f89d2"
      },
      "outputs": [
        {
          "output_type": "stream",
          "name": "stdout",
          "text": [
            "Reading package lists... Done\n",
            "Building dependency tree       \n",
            "Reading state information... Done\n",
            "The following package was automatically installed and is no longer required:\n",
            "  libnvidia-common-460\n",
            "Use 'sudo apt autoremove' to remove it.\n",
            "The following NEW packages will be installed:\n",
            "  libportaudio2\n",
            "0 upgraded, 1 newly installed, 0 to remove and 20 not upgraded.\n",
            "Need to get 64.6 kB of archives.\n",
            "After this operation, 215 kB of additional disk space will be used.\n",
            "Get:1 http://archive.ubuntu.com/ubuntu bionic/universe amd64 libportaudio2 amd64 19.6.0-1 [64.6 kB]\n",
            "Fetched 64.6 kB in 1s (62.6 kB/s)\n",
            "debconf: unable to initialize frontend: Dialog\n",
            "debconf: (No usable dialog-like program is installed, so the dialog based frontend cannot be used. at /usr/share/perl5/Debconf/FrontEnd/Dialog.pm line 76, <> line 1.)\n",
            "debconf: falling back to frontend: Readline\n",
            "debconf: unable to initialize frontend: Readline\n",
            "debconf: (This frontend requires a controlling tty.)\n",
            "debconf: falling back to frontend: Teletype\n",
            "dpkg-preconfigure: unable to re-open stdin: \n",
            "Selecting previously unselected package libportaudio2:amd64.\n",
            "(Reading database ... 159447 files and directories currently installed.)\n",
            "Preparing to unpack .../libportaudio2_19.6.0-1_amd64.deb ...\n",
            "Unpacking libportaudio2:amd64 (19.6.0-1) ...\n",
            "Setting up libportaudio2:amd64 (19.6.0-1) ...\n",
            "Processing triggers for libc-bin (2.27-3ubuntu1.5) ...\n",
            "Looking in indexes: https://pypi.org/simple, https://us-python.pkg.dev/colab-wheels/public/simple/\n",
            "Collecting tflite-model-maker\n",
            "  Downloading tflite_model_maker-0.4.2-py3-none-any.whl (577 kB)\n",
            "\u001b[K     |████████████████████████████████| 577 kB 8.9 MB/s \n",
            "\u001b[?25hCollecting tensorflow-model-optimization>=0.5\n",
            "  Downloading tensorflow_model_optimization-0.7.3-py2.py3-none-any.whl (238 kB)\n",
            "\u001b[K     |████████████████████████████████| 238 kB 48.5 MB/s \n",
            "\u001b[?25hRequirement already satisfied: Cython>=0.29.13 in /usr/local/lib/python3.7/dist-packages (from tflite-model-maker) (0.29.32)\n",
            "Requirement already satisfied: tensorflow-datasets>=2.1.0 in /usr/local/lib/python3.7/dist-packages (from tflite-model-maker) (4.6.0)\n",
            "Collecting fire>=0.3.1\n",
            "  Downloading fire-0.4.0.tar.gz (87 kB)\n",
            "\u001b[K     |████████████████████████████████| 87 kB 6.8 MB/s \n",
            "\u001b[?25hRequirement already satisfied: lxml>=4.6.1 in /usr/local/lib/python3.7/dist-packages (from tflite-model-maker) (4.9.1)\n",
            "Requirement already satisfied: absl-py>=0.10.0 in /usr/local/lib/python3.7/dist-packages (from tflite-model-maker) (1.2.0)\n",
            "Collecting numba==0.53\n",
            "  Downloading numba-0.53.0-cp37-cp37m-manylinux2014_x86_64.whl (3.4 MB)\n",
            "\u001b[K     |████████████████████████████████| 3.4 MB 51.1 MB/s \n",
            "\u001b[?25hCollecting sentencepiece>=0.1.91\n",
            "  Downloading sentencepiece-0.1.97-cp37-cp37m-manylinux_2_17_x86_64.manylinux2014_x86_64.whl (1.3 MB)\n",
            "\u001b[K     |████████████████████████████████| 1.3 MB 53.1 MB/s \n",
            "\u001b[?25hRequirement already satisfied: urllib3!=1.25.0,!=1.25.1,<1.26,>=1.21.1 in /usr/local/lib/python3.7/dist-packages (from tflite-model-maker) (1.24.3)\n",
            "Requirement already satisfied: matplotlib<3.5.0,>=3.0.3 in /usr/local/lib/python3.7/dist-packages (from tflite-model-maker) (3.2.2)\n",
            "Collecting tensorflowjs<3.19.0,>=2.4.0\n",
            "  Downloading tensorflowjs-3.18.0-py3-none-any.whl (77 kB)\n",
            "\u001b[K     |████████████████████████████████| 77 kB 5.9 MB/s \n",
            "\u001b[?25hRequirement already satisfied: librosa==0.8.1 in /usr/local/lib/python3.7/dist-packages (from tflite-model-maker) (0.8.1)\n",
            "Requirement already satisfied: six>=1.12.0 in /usr/local/lib/python3.7/dist-packages (from tflite-model-maker) (1.15.0)\n",
            "Collecting scann==1.2.6\n",
            "  Downloading scann-1.2.6-cp37-cp37m-manylinux2014_x86_64.whl (10.9 MB)\n",
            "\u001b[K     |████████████████████████████████| 10.9 MB 11.7 MB/s \n",
            "\u001b[?25hCollecting neural-structured-learning>=1.3.1\n",
            "  Downloading neural_structured_learning-1.4.0-py2.py3-none-any.whl (128 kB)\n",
            "\u001b[K     |████████████████████████████████| 128 kB 57.2 MB/s \n",
            "\u001b[?25hRequirement already satisfied: pillow>=7.0.0 in /usr/local/lib/python3.7/dist-packages (from tflite-model-maker) (7.1.2)\n",
            "Requirement already satisfied: numpy>=1.17.3 in /usr/local/lib/python3.7/dist-packages (from tflite-model-maker) (1.21.6)\n",
            "Collecting tflite-support>=0.4.2\n",
            "  Downloading tflite_support-0.4.2-cp37-cp37m-manylinux2014_x86_64.whl (60.2 MB)\n",
            "\u001b[K     |████████████████████████████████| 60.2 MB 19 kB/s \n",
            "\u001b[?25hRequirement already satisfied: PyYAML>=5.1 in /usr/local/lib/python3.7/dist-packages (from tflite-model-maker) (6.0)\n",
            "Requirement already satisfied: tensorflow-hub<0.13,>=0.7.0 in /usr/local/lib/python3.7/dist-packages (from tflite-model-maker) (0.12.0)\n",
            "Requirement already satisfied: tensorflow>=2.6.0 in /usr/local/lib/python3.7/dist-packages (from tflite-model-maker) (2.8.2+zzzcolab20220719082949)\n",
            "Collecting tf-models-official==2.3.0\n",
            "  Downloading tf_models_official-2.3.0-py2.py3-none-any.whl (840 kB)\n",
            "\u001b[K     |████████████████████████████████| 840 kB 66.0 MB/s \n",
            "\u001b[?25hRequirement already satisfied: flatbuffers>=2.0 in /usr/local/lib/python3.7/dist-packages (from tflite-model-maker) (2.0.7)\n",
            "Collecting tensorflow-addons>=0.11.2\n",
            "  Downloading tensorflow_addons-0.18.0-cp37-cp37m-manylinux_2_17_x86_64.manylinux2014_x86_64.whl (1.1 MB)\n",
            "\u001b[K     |████████████████████████████████| 1.1 MB 65.1 MB/s \n",
            "\u001b[?25hRequirement already satisfied: soundfile>=0.10.2 in /usr/local/lib/python3.7/dist-packages (from librosa==0.8.1->tflite-model-maker) (0.10.3.post1)\n",
            "Requirement already satisfied: audioread>=2.0.0 in /usr/local/lib/python3.7/dist-packages (from librosa==0.8.1->tflite-model-maker) (3.0.0)\n",
            "Requirement already satisfied: joblib>=0.14 in /usr/local/lib/python3.7/dist-packages (from librosa==0.8.1->tflite-model-maker) (1.1.0)\n",
            "Requirement already satisfied: scipy>=1.0.0 in /usr/local/lib/python3.7/dist-packages (from librosa==0.8.1->tflite-model-maker) (1.7.3)\n",
            "Requirement already satisfied: scikit-learn!=0.19.0,>=0.14.0 in /usr/local/lib/python3.7/dist-packages (from librosa==0.8.1->tflite-model-maker) (1.0.2)\n",
            "Requirement already satisfied: packaging>=20.0 in /usr/local/lib/python3.7/dist-packages (from librosa==0.8.1->tflite-model-maker) (21.3)\n",
            "Requirement already satisfied: pooch>=1.0 in /usr/local/lib/python3.7/dist-packages (from librosa==0.8.1->tflite-model-maker) (1.6.0)\n",
            "Requirement already satisfied: decorator>=3.0.0 in /usr/local/lib/python3.7/dist-packages (from librosa==0.8.1->tflite-model-maker) (4.4.2)\n",
            "Requirement already satisfied: resampy>=0.2.2 in /usr/local/lib/python3.7/dist-packages (from librosa==0.8.1->tflite-model-maker) (0.4.0)\n",
            "Collecting llvmlite<0.37,>=0.36.0rc1\n",
            "  Downloading llvmlite-0.36.0-cp37-cp37m-manylinux2010_x86_64.whl (25.3 MB)\n",
            "\u001b[K     |████████████████████████████████| 25.3 MB 85.4 MB/s \n",
            "\u001b[?25hRequirement already satisfied: setuptools in /usr/local/lib/python3.7/dist-packages (from numba==0.53->tflite-model-maker) (57.4.0)\n",
            "Requirement already satisfied: pandas>=0.22.0 in /usr/local/lib/python3.7/dist-packages (from tf-models-official==2.3.0->tflite-model-maker) (1.3.5)\n",
            "Collecting dataclasses\n",
            "  Downloading dataclasses-0.6-py3-none-any.whl (14 kB)\n",
            "Collecting tf-slim>=1.1.0\n",
            "  Downloading tf_slim-1.1.0-py2.py3-none-any.whl (352 kB)\n",
            "\u001b[K     |████████████████████████████████| 352 kB 71.6 MB/s \n",
            "\u001b[?25hRequirement already satisfied: gin-config in /usr/local/lib/python3.7/dist-packages (from tf-models-official==2.3.0->tflite-model-maker) (0.5.0)\n",
            "Requirement already satisfied: psutil>=5.4.3 in /usr/local/lib/python3.7/dist-packages (from tf-models-official==2.3.0->tflite-model-maker) (5.4.8)\n",
            "Requirement already satisfied: google-api-python-client>=1.6.7 in /usr/local/lib/python3.7/dist-packages (from tf-models-official==2.3.0->tflite-model-maker) (1.12.11)\n",
            "Requirement already satisfied: opencv-python-headless in /usr/local/lib/python3.7/dist-packages (from tf-models-official==2.3.0->tflite-model-maker) (4.6.0.66)\n",
            "Collecting py-cpuinfo>=3.3.0\n",
            "  Downloading py-cpuinfo-8.0.0.tar.gz (99 kB)\n",
            "\u001b[K     |████████████████████████████████| 99 kB 10.9 MB/s \n",
            "\u001b[?25hRequirement already satisfied: google-cloud-bigquery>=0.31.0 in /usr/local/lib/python3.7/dist-packages (from tf-models-official==2.3.0->tflite-model-maker) (1.21.0)\n",
            "Requirement already satisfied: kaggle>=1.3.9 in /usr/local/lib/python3.7/dist-packages (from tf-models-official==2.3.0->tflite-model-maker) (1.5.12)\n",
            "Requirement already satisfied: termcolor in /usr/local/lib/python3.7/dist-packages (from fire>=0.3.1->tflite-model-maker) (1.1.0)\n",
            "Requirement already satisfied: google-auth<3dev,>=1.16.0 in /usr/local/lib/python3.7/dist-packages (from google-api-python-client>=1.6.7->tf-models-official==2.3.0->tflite-model-maker) (1.35.0)\n",
            "Requirement already satisfied: google-auth-httplib2>=0.0.3 in /usr/local/lib/python3.7/dist-packages (from google-api-python-client>=1.6.7->tf-models-official==2.3.0->tflite-model-maker) (0.0.4)\n",
            "Requirement already satisfied: google-api-core<3dev,>=1.21.0 in /usr/local/lib/python3.7/dist-packages (from google-api-python-client>=1.6.7->tf-models-official==2.3.0->tflite-model-maker) (1.31.6)\n",
            "Requirement already satisfied: httplib2<1dev,>=0.15.0 in /usr/local/lib/python3.7/dist-packages (from google-api-python-client>=1.6.7->tf-models-official==2.3.0->tflite-model-maker) (0.17.4)\n",
            "Requirement already satisfied: uritemplate<4dev,>=3.0.0 in /usr/local/lib/python3.7/dist-packages (from google-api-python-client>=1.6.7->tf-models-official==2.3.0->tflite-model-maker) (3.0.1)\n",
            "Requirement already satisfied: protobuf<4.0.0dev,>=3.12.0 in /usr/local/lib/python3.7/dist-packages (from google-api-core<3dev,>=1.21.0->google-api-python-client>=1.6.7->tf-models-official==2.3.0->tflite-model-maker) (3.17.3)\n",
            "Requirement already satisfied: googleapis-common-protos<2.0dev,>=1.6.0 in /usr/local/lib/python3.7/dist-packages (from google-api-core<3dev,>=1.21.0->google-api-python-client>=1.6.7->tf-models-official==2.3.0->tflite-model-maker) (1.56.4)\n",
            "Requirement already satisfied: pytz in /usr/local/lib/python3.7/dist-packages (from google-api-core<3dev,>=1.21.0->google-api-python-client>=1.6.7->tf-models-official==2.3.0->tflite-model-maker) (2022.2.1)\n",
            "Requirement already satisfied: requests<3.0.0dev,>=2.18.0 in /usr/local/lib/python3.7/dist-packages (from google-api-core<3dev,>=1.21.0->google-api-python-client>=1.6.7->tf-models-official==2.3.0->tflite-model-maker) (2.23.0)\n",
            "Requirement already satisfied: cachetools<5.0,>=2.0.0 in /usr/local/lib/python3.7/dist-packages (from google-auth<3dev,>=1.16.0->google-api-python-client>=1.6.7->tf-models-official==2.3.0->tflite-model-maker) (4.2.4)\n",
            "Requirement already satisfied: pyasn1-modules>=0.2.1 in /usr/local/lib/python3.7/dist-packages (from google-auth<3dev,>=1.16.0->google-api-python-client>=1.6.7->tf-models-official==2.3.0->tflite-model-maker) (0.2.8)\n",
            "Requirement already satisfied: rsa<5,>=3.1.4 in /usr/local/lib/python3.7/dist-packages (from google-auth<3dev,>=1.16.0->google-api-python-client>=1.6.7->tf-models-official==2.3.0->tflite-model-maker) (4.9)\n",
            "Requirement already satisfied: google-resumable-media!=0.4.0,<0.5.0dev,>=0.3.1 in /usr/local/lib/python3.7/dist-packages (from google-cloud-bigquery>=0.31.0->tf-models-official==2.3.0->tflite-model-maker) (0.4.1)\n",
            "Requirement already satisfied: google-cloud-core<2.0dev,>=1.0.3 in /usr/local/lib/python3.7/dist-packages (from google-cloud-bigquery>=0.31.0->tf-models-official==2.3.0->tflite-model-maker) (1.0.3)\n",
            "Requirement already satisfied: tqdm in /usr/local/lib/python3.7/dist-packages (from kaggle>=1.3.9->tf-models-official==2.3.0->tflite-model-maker) (4.64.1)\n",
            "Requirement already satisfied: python-slugify in /usr/local/lib/python3.7/dist-packages (from kaggle>=1.3.9->tf-models-official==2.3.0->tflite-model-maker) (6.1.2)\n",
            "Requirement already satisfied: python-dateutil in /usr/local/lib/python3.7/dist-packages (from kaggle>=1.3.9->tf-models-official==2.3.0->tflite-model-maker) (2.8.2)\n",
            "Requirement already satisfied: certifi in /usr/local/lib/python3.7/dist-packages (from kaggle>=1.3.9->tf-models-official==2.3.0->tflite-model-maker) (2022.6.15)\n",
            "Requirement already satisfied: pyparsing!=2.0.4,!=2.1.2,!=2.1.6,>=2.0.1 in /usr/local/lib/python3.7/dist-packages (from matplotlib<3.5.0,>=3.0.3->tflite-model-maker) (3.0.9)\n",
            "Requirement already satisfied: cycler>=0.10 in /usr/local/lib/python3.7/dist-packages (from matplotlib<3.5.0,>=3.0.3->tflite-model-maker) (0.11.0)\n",
            "Requirement already satisfied: kiwisolver>=1.0.1 in /usr/local/lib/python3.7/dist-packages (from matplotlib<3.5.0,>=3.0.3->tflite-model-maker) (1.4.4)\n",
            "Requirement already satisfied: typing-extensions in /usr/local/lib/python3.7/dist-packages (from kiwisolver>=1.0.1->matplotlib<3.5.0,>=3.0.3->tflite-model-maker) (4.1.1)\n",
            "Requirement already satisfied: attrs in /usr/local/lib/python3.7/dist-packages (from neural-structured-learning>=1.3.1->tflite-model-maker) (22.1.0)\n",
            "Requirement already satisfied: appdirs>=1.3.0 in /usr/local/lib/python3.7/dist-packages (from pooch>=1.0->librosa==0.8.1->tflite-model-maker) (1.4.4)\n",
            "Requirement already satisfied: pyasn1<0.5.0,>=0.4.6 in /usr/local/lib/python3.7/dist-packages (from pyasn1-modules>=0.2.1->google-auth<3dev,>=1.16.0->google-api-python-client>=1.6.7->tf-models-official==2.3.0->tflite-model-maker) (0.4.8)\n",
            "Requirement already satisfied: idna<3,>=2.5 in /usr/local/lib/python3.7/dist-packages (from requests<3.0.0dev,>=2.18.0->google-api-core<3dev,>=1.21.0->google-api-python-client>=1.6.7->tf-models-official==2.3.0->tflite-model-maker) (2.10)\n",
            "Requirement already satisfied: chardet<4,>=3.0.2 in /usr/local/lib/python3.7/dist-packages (from requests<3.0.0dev,>=2.18.0->google-api-core<3dev,>=1.21.0->google-api-python-client>=1.6.7->tf-models-official==2.3.0->tflite-model-maker) (3.0.4)\n",
            "Requirement already satisfied: threadpoolctl>=2.0.0 in /usr/local/lib/python3.7/dist-packages (from scikit-learn!=0.19.0,>=0.14.0->librosa==0.8.1->tflite-model-maker) (3.1.0)\n",
            "Requirement already satisfied: cffi>=1.0 in /usr/local/lib/python3.7/dist-packages (from soundfile>=0.10.2->librosa==0.8.1->tflite-model-maker) (1.15.1)\n",
            "Requirement already satisfied: pycparser in /usr/local/lib/python3.7/dist-packages (from cffi>=1.0->soundfile>=0.10.2->librosa==0.8.1->tflite-model-maker) (2.21)\n",
            "Requirement already satisfied: grpcio<2.0,>=1.24.3 in /usr/local/lib/python3.7/dist-packages (from tensorflow>=2.6.0->tflite-model-maker) (1.48.1)\n",
            "Requirement already satisfied: astunparse>=1.6.0 in /usr/local/lib/python3.7/dist-packages (from tensorflow>=2.6.0->tflite-model-maker) (1.6.3)\n",
            "Requirement already satisfied: gast>=0.2.1 in /usr/local/lib/python3.7/dist-packages (from tensorflow>=2.6.0->tflite-model-maker) (0.5.3)\n",
            "Requirement already satisfied: libclang>=9.0.1 in /usr/local/lib/python3.7/dist-packages (from tensorflow>=2.6.0->tflite-model-maker) (14.0.6)\n",
            "Requirement already satisfied: tensorflow-io-gcs-filesystem>=0.23.1 in /usr/local/lib/python3.7/dist-packages (from tensorflow>=2.6.0->tflite-model-maker) (0.26.0)\n",
            "Requirement already satisfied: keras-preprocessing>=1.1.1 in /usr/local/lib/python3.7/dist-packages (from tensorflow>=2.6.0->tflite-model-maker) (1.1.2)\n",
            "Requirement already satisfied: wrapt>=1.11.0 in /usr/local/lib/python3.7/dist-packages (from tensorflow>=2.6.0->tflite-model-maker) (1.14.1)\n",
            "Requirement already satisfied: opt-einsum>=2.3.2 in /usr/local/lib/python3.7/dist-packages (from tensorflow>=2.6.0->tflite-model-maker) (3.3.0)\n",
            "Requirement already satisfied: tensorboard<2.9,>=2.8 in /usr/local/lib/python3.7/dist-packages (from tensorflow>=2.6.0->tflite-model-maker) (2.8.0)\n",
            "Requirement already satisfied: google-pasta>=0.1.1 in /usr/local/lib/python3.7/dist-packages (from tensorflow>=2.6.0->tflite-model-maker) (0.2.0)\n",
            "Requirement already satisfied: tensorflow-estimator<2.9,>=2.8 in /usr/local/lib/python3.7/dist-packages (from tensorflow>=2.6.0->tflite-model-maker) (2.8.0)\n",
            "Requirement already satisfied: keras<2.9,>=2.8.0rc0 in /usr/local/lib/python3.7/dist-packages (from tensorflow>=2.6.0->tflite-model-maker) (2.8.0)\n",
            "Requirement already satisfied: h5py>=2.9.0 in /usr/local/lib/python3.7/dist-packages (from tensorflow>=2.6.0->tflite-model-maker) (3.1.0)\n",
            "Requirement already satisfied: wheel<1.0,>=0.23.0 in /usr/local/lib/python3.7/dist-packages (from astunparse>=1.6.0->tensorflow>=2.6.0->tflite-model-maker) (0.37.1)\n",
            "Requirement already satisfied: cached-property in /usr/local/lib/python3.7/dist-packages (from h5py>=2.9.0->tensorflow>=2.6.0->tflite-model-maker) (1.5.2)\n",
            "Requirement already satisfied: markdown>=2.6.8 in /usr/local/lib/python3.7/dist-packages (from tensorboard<2.9,>=2.8->tensorflow>=2.6.0->tflite-model-maker) (3.4.1)\n",
            "Requirement already satisfied: werkzeug>=0.11.15 in /usr/local/lib/python3.7/dist-packages (from tensorboard<2.9,>=2.8->tensorflow>=2.6.0->tflite-model-maker) (1.0.1)\n",
            "Requirement already satisfied: tensorboard-data-server<0.7.0,>=0.6.0 in /usr/local/lib/python3.7/dist-packages (from tensorboard<2.9,>=2.8->tensorflow>=2.6.0->tflite-model-maker) (0.6.1)\n",
            "Requirement already satisfied: google-auth-oauthlib<0.5,>=0.4.1 in /usr/local/lib/python3.7/dist-packages (from tensorboard<2.9,>=2.8->tensorflow>=2.6.0->tflite-model-maker) (0.4.6)\n",
            "Requirement already satisfied: tensorboard-plugin-wit>=1.6.0 in /usr/local/lib/python3.7/dist-packages (from tensorboard<2.9,>=2.8->tensorflow>=2.6.0->tflite-model-maker) (1.8.1)\n",
            "Requirement already satisfied: requests-oauthlib>=0.7.0 in /usr/local/lib/python3.7/dist-packages (from google-auth-oauthlib<0.5,>=0.4.1->tensorboard<2.9,>=2.8->tensorflow>=2.6.0->tflite-model-maker) (1.3.1)\n",
            "Requirement already satisfied: importlib-metadata>=4.4 in /usr/local/lib/python3.7/dist-packages (from markdown>=2.6.8->tensorboard<2.9,>=2.8->tensorflow>=2.6.0->tflite-model-maker) (4.12.0)\n",
            "Requirement already satisfied: zipp>=0.5 in /usr/local/lib/python3.7/dist-packages (from importlib-metadata>=4.4->markdown>=2.6.8->tensorboard<2.9,>=2.8->tensorflow>=2.6.0->tflite-model-maker) (3.8.1)\n",
            "Requirement already satisfied: oauthlib>=3.0.0 in /usr/local/lib/python3.7/dist-packages (from requests-oauthlib>=0.7.0->google-auth-oauthlib<0.5,>=0.4.1->tensorboard<2.9,>=2.8->tensorflow>=2.6.0->tflite-model-maker) (3.2.0)\n",
            "Requirement already satisfied: typeguard>=2.7 in /usr/local/lib/python3.7/dist-packages (from tensorflow-addons>=0.11.2->tflite-model-maker) (2.7.1)\n",
            "Requirement already satisfied: promise in /usr/local/lib/python3.7/dist-packages (from tensorflow-datasets>=2.1.0->tflite-model-maker) (2.3)\n",
            "Requirement already satisfied: tensorflow-metadata in /usr/local/lib/python3.7/dist-packages (from tensorflow-datasets>=2.1.0->tflite-model-maker) (1.10.0)\n",
            "Requirement already satisfied: toml in /usr/local/lib/python3.7/dist-packages (from tensorflow-datasets>=2.1.0->tflite-model-maker) (0.10.2)\n",
            "Requirement already satisfied: importlib-resources in /usr/local/lib/python3.7/dist-packages (from tensorflow-datasets>=2.1.0->tflite-model-maker) (5.9.0)\n",
            "Requirement already satisfied: etils[epath] in /usr/local/lib/python3.7/dist-packages (from tensorflow-datasets>=2.1.0->tflite-model-maker) (0.7.1)\n",
            "Requirement already satisfied: dill in /usr/local/lib/python3.7/dist-packages (from tensorflow-datasets>=2.1.0->tflite-model-maker) (0.3.5.1)\n",
            "Requirement already satisfied: dm-tree~=0.1.1 in /usr/local/lib/python3.7/dist-packages (from tensorflow-model-optimization>=0.5->tflite-model-maker) (0.1.7)\n",
            "Collecting packaging>=20.0\n",
            "  Downloading packaging-20.9-py2.py3-none-any.whl (40 kB)\n",
            "\u001b[K     |████████████████████████████████| 40 kB 6.1 MB/s \n",
            "\u001b[?25hCollecting protobuf<4.0.0dev,>=3.12.0\n",
            "  Downloading protobuf-3.19.6-cp37-cp37m-manylinux_2_17_x86_64.manylinux2014_x86_64.whl (1.1 MB)\n",
            "\u001b[K     |████████████████████████████████| 1.1 MB 56.2 MB/s \n",
            "\u001b[?25hCollecting pybind11>=2.6.0\n",
            "  Downloading pybind11-2.10.0-py3-none-any.whl (213 kB)\n",
            "\u001b[K     |████████████████████████████████| 213 kB 76.5 MB/s \n",
            "\u001b[?25hCollecting sounddevice>=0.4.4\n",
            "  Downloading sounddevice-0.4.5-py3-none-any.whl (31 kB)\n",
            "Requirement already satisfied: text-unidecode>=1.3 in /usr/local/lib/python3.7/dist-packages (from python-slugify->kaggle>=1.3.9->tf-models-official==2.3.0->tflite-model-maker) (1.3)\n",
            "Building wheels for collected packages: fire, py-cpuinfo\n",
            "  Building wheel for fire (setup.py) ... \u001b[?25l\u001b[?25hdone\n",
            "  Created wheel for fire: filename=fire-0.4.0-py2.py3-none-any.whl size=115942 sha256=7a32a4767cd907a57e7260b7a6ce49f82b6f36ec6722afc4378866e61ffe39aa\n",
            "  Stored in directory: /root/.cache/pip/wheels/8a/67/fb/2e8a12fa16661b9d5af1f654bd199366799740a85c64981226\n",
            "  Building wheel for py-cpuinfo (setup.py) ... \u001b[?25l\u001b[?25hdone\n",
            "  Created wheel for py-cpuinfo: filename=py_cpuinfo-8.0.0-py3-none-any.whl size=22257 sha256=41365ad319fb6ca115b0b7635428fbdf951266ca039e49263f33b91c07eade78\n",
            "  Stored in directory: /root/.cache/pip/wheels/d2/f1/1f/041add21dc9c4220157f1bd2bd6afe1f1a49524c3396b94401\n",
            "Successfully built fire py-cpuinfo\n",
            "Installing collected packages: protobuf, packaging, llvmlite, numba, tf-slim, tensorflow-model-optimization, tensorflow-addons, sounddevice, sentencepiece, pybind11, py-cpuinfo, dataclasses, tflite-support, tf-models-official, tensorflowjs, scann, neural-structured-learning, fire, tflite-model-maker\n",
            "  Attempting uninstall: protobuf\n",
            "    Found existing installation: protobuf 3.17.3\n",
            "    Uninstalling protobuf-3.17.3:\n",
            "      Successfully uninstalled protobuf-3.17.3\n",
            "  Attempting uninstall: packaging\n",
            "    Found existing installation: packaging 21.3\n",
            "    Uninstalling packaging-21.3:\n",
            "      Successfully uninstalled packaging-21.3\n",
            "  Attempting uninstall: llvmlite\n",
            "    Found existing installation: llvmlite 0.39.1\n",
            "    Uninstalling llvmlite-0.39.1:\n",
            "      Successfully uninstalled llvmlite-0.39.1\n",
            "  Attempting uninstall: numba\n",
            "    Found existing installation: numba 0.56.2\n",
            "    Uninstalling numba-0.56.2:\n",
            "      Successfully uninstalled numba-0.56.2\n",
            "Successfully installed dataclasses-0.6 fire-0.4.0 llvmlite-0.36.0 neural-structured-learning-1.4.0 numba-0.53.0 packaging-20.9 protobuf-3.19.6 py-cpuinfo-8.0.0 pybind11-2.10.0 scann-1.2.6 sentencepiece-0.1.97 sounddevice-0.4.5 tensorflow-addons-0.18.0 tensorflow-model-optimization-0.7.3 tensorflowjs-3.18.0 tf-models-official-2.3.0 tf-slim-1.1.0 tflite-model-maker-0.4.2 tflite-support-0.4.2\n"
          ]
        },
        {
          "output_type": "display_data",
          "data": {
            "application/vnd.colab-display-data+json": {
              "pip_warning": {
                "packages": [
                  "google"
                ]
              }
            }
          },
          "metadata": {}
        }
      ],
      "source": [
        "!sudo apt -y install libportaudio2\n",
        "!pip install tflite-model-maker"
      ]
    },
    {
      "cell_type": "code",
      "execution_count": 3,
      "metadata": {
        "id": "rwUA9u4oWoCR",
        "colab": {
          "base_uri": "https://localhost:8080/"
        },
        "outputId": "21a4401f-75d6-4a5b-ebcd-d136b522059a"
      },
      "outputs": [
        {
          "output_type": "stream",
          "name": "stdout",
          "text": [
            "TensorFlow Version: 2.8.2\n",
            "Model Maker Version: 0.4.2\n"
          ]
        }
      ],
      "source": [
        "import os\n",
        "import glob\n",
        "import random\n",
        "import shutil\n",
        "\n",
        "import librosa\n",
        "import soundfile as sf\n",
        "from IPython.display import Audio\n",
        "import numpy as np\n",
        "import matplotlib.pyplot as plt\n",
        "import seaborn as sns\n",
        "\n",
        "import tensorflow as tf\n",
        "import tflite_model_maker as mm\n",
        "from tflite_model_maker import audio_classifier\n",
        "from tflite_model_maker.config import ExportFormat\n",
        "\n",
        "print(f\"TensorFlow Version: {tf.__version__}\")\n",
        "print(f\"Model Maker Version: {mm.__version__}\")"
      ]
    },
    {
      "cell_type": "markdown",
      "metadata": {
        "id": "cBsSAeYLkc1Z"
      },
      "source": [
        "## Prepare the dataset"
      ]
    },
    {
      "cell_type": "markdown",
      "metadata": {
        "id": "NTTSXJxJq2Bz"
      },
      "source": [
        "To train with the default speech dataset, just run all the code below as-is.\n",
        "\n",
        "But if you want to train with your own speech dataset, follow these steps:\n",
        "\n",
        "**Note:** \n",
        "The model you'll retrain expects input data to be roughly one second of audio at 44.1 kHz. Model Maker perfoms automatic resampling for the training dataset, so there's no need to resample your dataset if it has a sample rate other than 44.1 kHz. But beware that audio samples longer than one second will be split into multiple one-second chunks, and the final chunk will be discarded if it's shorter than one second.\n",
        "\n",
        "1. Be sure each sample in your dataset is in **WAV file format, about one second long**. Then create a ZIP file with all your WAV files, organized into separate subfolders for each classification. For example, each sample for a speech command \"yes\" should be in a subfolder named \"yes\". Even if you have only one class, the samples must be saved in a subdirectory with the class name as the directory name. (This script assumes your dataset **is not split** into train/validation/test sets and performs that split for you.)\n",
        "2. Click the **Files** tab in the left panel and just drag-drop your ZIP file there to upload it.\n",
        "3. Use the following drop-down option to set **`use_custom_dataset`** to True.\n",
        "4. Then skip to [Prepare a custom audio dataset](#scrollTo=EobYerLQkiF1) to specify your ZIP filename and dataset directory name.\n",
        "\n",
        "\n"
      ]
    },
    {
      "cell_type": "code",
      "execution_count": 4,
      "metadata": {
        "cellView": "form",
        "id": "AK9o98X7qyhU"
      },
      "outputs": [],
      "source": [
        "use_custom_dataset = False #@param [\"False\", \"True\"] {type:\"raw\"}"
      ]
    },
    {
      "cell_type": "markdown",
      "metadata": {
        "id": "D2sNXbYVHjjy"
      },
      "source": [
        "### Generate a background noise dataset"
      ]
    },
    {
      "cell_type": "markdown",
      "metadata": {
        "id": "gBVClNMwHtMD"
      },
      "source": [
        "Whether you're using the default speech dataset or a custom dataset, you should have a good set of background noises so your model can distinguish speech from other noises (including silence). \n",
        "\n",
        "Because the following background samples are provided in WAV files that are a minute long or longer, we need to split them up into smaller one-second samples so we can reserve some for our test dataset. We'll also combine a couple different sample sources to build a comprehensive set of background noises and silence:"
      ]
    },
    {
      "cell_type": "code",
      "execution_count": 5,
      "metadata": {
        "id": "qvJd9VfmHu29",
        "colab": {
          "base_uri": "https://localhost:8080/",
          "height": 142
        },
        "outputId": "6d3312f7-690b-42a8-93da-6941be73b473"
      },
      "outputs": [
        {
          "output_type": "stream",
          "name": "stdout",
          "text": [
            "Downloading data from http://download.tensorflow.org/data/speech_commands_v0.01.tar.gz\n",
            "1489100800/1489096277 [==============================] - 30s 0us/step\n",
            "1489108992/1489096277 [==============================] - 30s 0us/step\n",
            "Downloading data from https://storage.googleapis.com/download.tensorflow.org/models/tflite/sound_classification/background_audio.zip\n",
            "1073152/1072437 [==============================] - 0s 0us/step\n",
            "1081344/1072437 [==============================] - 0s 0us/step\n"
          ]
        },
        {
          "output_type": "execute_result",
          "data": {
            "text/plain": [
              "'./dataset-background/background_audio.zip'"
            ],
            "application/vnd.google.colaboratory.intrinsic+json": {
              "type": "string"
            }
          },
          "metadata": {},
          "execution_count": 5
        }
      ],
      "source": [
        "tf.keras.utils.get_file('speech_commands_v0.01.tar.gz',\n",
        "                        'http://download.tensorflow.org/data/speech_commands_v0.01.tar.gz',\n",
        "                        cache_dir='./',\n",
        "                        cache_subdir='dataset-speech',\n",
        "                        extract=True)\n",
        "tf.keras.utils.get_file('background_audio.zip',\n",
        "                        'https://storage.googleapis.com/download.tensorflow.org/models/tflite/sound_classification/background_audio.zip',\n",
        "                        cache_dir='./',\n",
        "                        cache_subdir='dataset-background',\n",
        "                        extract=True)\n"
      ]
    },
    {
      "cell_type": "markdown",
      "metadata": {
        "id": "7CAVFc3woB3_"
      },
      "source": [
        "**Note:** Although there is a newer version available, we're using v0.01 of the speech commands dataset because it's a smaller download. v0.01 includes 30 commands, while v0.02 adds five more (\"backward\", \"forward\", \"follow\", \"learn\", and \"visual\")."
      ]
    },
    {
      "cell_type": "code",
      "execution_count": 6,
      "metadata": {
        "id": "xgwWNifGL-3b",
        "colab": {
          "base_uri": "https://localhost:8080/"
        },
        "outputId": "393887bb-2273-4eba-f2a4-7478c988ff12"
      },
      "outputs": [
        {
          "output_type": "stream",
          "name": "stdout",
          "text": [
            "Splitting doing_the_dishes.wav\n",
            "Splitting pink_noise.wav\n",
            "Splitting dude_miaowing.wav\n",
            "Splitting running_tap.wav\n",
            "Splitting exercise_bike.wav\n",
            "Splitting white_noise.wav\n",
            "Splitting silence.wav\n",
            "Splitting throat_clearing.wav\n"
          ]
        }
      ],
      "source": [
        "# Create a list of all the background wav files\n",
        "files = glob.glob(os.path.join('./dataset-speech/_background_noise_', '*.wav'))\n",
        "files = files + glob.glob(os.path.join('./dataset-background', '*.wav'))\n",
        "\n",
        "background_dir = './background'\n",
        "os.makedirs(background_dir, exist_ok=True)\n",
        "\n",
        "# Loop through all files and split each into several one-second wav files\n",
        "for file in files:\n",
        "  filename = os.path.basename(os.path.normpath(file))\n",
        "  print('Splitting', filename)\n",
        "  name = os.path.splitext(filename)[0]\n",
        "  rate = librosa.get_samplerate(file)\n",
        "  length = round(librosa.get_duration(filename=file))\n",
        "  for i in range(length - 1):\n",
        "    start = i * rate\n",
        "    stop = (i * rate) + rate\n",
        "    data, _ = sf.read(file, start=start, stop=stop)\n",
        "    sf.write(os.path.join(background_dir, name + str(i) + '.wav'), data, rate)"
      ]
    },
    {
      "cell_type": "markdown",
      "metadata": {
        "id": "bVlvVq-SkeeO"
      },
      "source": [
        "### Prepare the speech commands dataset"
      ]
    },
    {
      "cell_type": "markdown",
      "metadata": {
        "id": "q_q22T5UHbJG"
      },
      "source": [
        "We already downloaded the speech commands dataset, so now we just need to prune the number of classes for our model.\n",
        "\n",
        "This dataset includes over 30 speech command classifications, and most of them have over 2,000 samples. But because we're using transfer learning, we don't need that many samples. So the following code does a few things:\n",
        "\n",
        "+ Specify which classifications we want to use, and delete the rest.\n",
        "+ Keep only 150 samples of each class for training (to prove that transfer learning works well with smaller datasets and simply to reduce the training time).\n",
        "+ Create a separate directory for a test dataset so we can easily run inference with them later."
      ]
    },
    {
      "cell_type": "code",
      "execution_count": 7,
      "metadata": {
        "id": "zUSRpw2nOp8p"
      },
      "outputs": [],
      "source": [
        "if not use_custom_dataset:\n",
        "  commands = [ \"up\", \"down\", \"left\", \"right\", \"go\", \"stop\", \"on\", \"off\", \"background\"]\n",
        "  dataset_dir = './dataset-speech'\n",
        "  test_dir = './dataset-test'\n",
        "\n",
        "  # Move the processed background samples\n",
        "  shutil.move(background_dir, os.path.join(dataset_dir, 'background'))   \n",
        "\n",
        "  # Delete all directories that are not in our commands list\n",
        "  dirs = glob.glob(os.path.join(dataset_dir, '*/'))\n",
        "  for dir in dirs:\n",
        "    name = os.path.basename(os.path.normpath(dir))\n",
        "    if name not in commands:\n",
        "      shutil.rmtree(dir)\n",
        "\n",
        "  # Count is per class\n",
        "  sample_count = 150\n",
        "  test_data_ratio = 0.2\n",
        "  test_count = round(sample_count * test_data_ratio)\n",
        "\n",
        "  # Loop through child directories (each class of wav files)\n",
        "  dirs = glob.glob(os.path.join(dataset_dir, '*/'))\n",
        "  for dir in dirs:\n",
        "    files = glob.glob(os.path.join(dir, '*.wav'))\n",
        "    random.seed(42)\n",
        "    random.shuffle(files)\n",
        "    # Move test samples:\n",
        "    for file in files[sample_count:sample_count + test_count]:\n",
        "      class_dir = os.path.basename(os.path.normpath(dir))\n",
        "      os.makedirs(os.path.join(test_dir, class_dir), exist_ok=True)\n",
        "      os.rename(file, os.path.join(test_dir, class_dir, os.path.basename(file)))\n",
        "    # Delete remaining samples\n",
        "    for file in files[sample_count + test_count:]:\n",
        "      os.remove(file)"
      ]
    },
    {
      "cell_type": "markdown",
      "metadata": {
        "id": "EobYerLQkiF1"
      },
      "source": [
        "### Prepare a custom dataset"
      ]
    },
    {
      "cell_type": "markdown",
      "metadata": {
        "id": "f3xTvDP3knMd"
      },
      "source": [
        "If you want to train the model with our own speech dataset, you need to upload your samples as WAV files in a ZIP ([as described above](#scrollTo=cBsSAeYLkc1Z)) and modify the following variables to specify your dataset:"
      ]
    },
    {
      "cell_type": "code",
      "execution_count": 8,
      "metadata": {
        "id": "77PsQAKA4Arx"
      },
      "outputs": [],
      "source": [
        "if use_custom_dataset:\n",
        "  # Specify the ZIP file you uploaded:\n",
        "  !unzip YOUR-FILENAME.zip\n",
        "  # Specify the unzipped path to your custom dataset\n",
        "  # (this path contains all the subfolders with classification names):\n",
        "  dataset_dir = './YOUR-DIRNAME'"
      ]
    },
    {
      "cell_type": "markdown",
      "metadata": {
        "id": "hwp6EQqvttgf"
      },
      "source": [
        "After changing the filename and path name above, you're ready to train the model with your custom dataset. In the Colab toolbar, select **Runtime > Run all** to run the whole notebook.\n",
        "\n",
        "The following code integrates our new background noise samples into your dataset and then separates a portion of all samples to create a test set."
      ]
    },
    {
      "cell_type": "code",
      "execution_count": 9,
      "metadata": {
        "id": "tMQ6cpw_B9e_"
      },
      "outputs": [],
      "source": [
        "def move_background_dataset(dataset_dir):\n",
        "  dest_dir = os.path.join(dataset_dir, 'background')\n",
        "  if os.path.exists(dest_dir):\n",
        "    files = glob.glob(os.path.join(background_dir, '*.wav'))\n",
        "    for file in files:\n",
        "      shutil.move(file, dest_dir)\n",
        "  else:\n",
        "    shutil.move(background_dir, dest_dir)"
      ]
    },
    {
      "cell_type": "code",
      "execution_count": 10,
      "metadata": {
        "id": "45iru8OdliG3"
      },
      "outputs": [],
      "source": [
        "if use_custom_dataset:\n",
        "  # Move background samples into custom dataset\n",
        "  move_background_dataset(dataset_dir)\n",
        "\n",
        "  # Now we separate some of the files that we'll use for testing:\n",
        "  test_dir = './dataset-test'\n",
        "  test_data_ratio = 0.2\n",
        "  dirs = glob.glob(os.path.join(dataset_dir, '*/'))\n",
        "  for dir in dirs:\n",
        "    files = glob.glob(os.path.join(dir, '*.wav'))\n",
        "    test_count = round(len(files) * test_data_ratio)\n",
        "    random.seed(42)\n",
        "    random.shuffle(files)\n",
        "    # Move test samples:\n",
        "    for file in files[:test_count]:\n",
        "      class_dir = os.path.basename(os.path.normpath(dir))\n",
        "      os.makedirs(os.path.join(test_dir, class_dir), exist_ok=True)\n",
        "      os.rename(file, os.path.join(test_dir, class_dir, os.path.basename(file)))\n",
        "    print('Moved', test_count, 'images from', class_dir)"
      ]
    },
    {
      "cell_type": "markdown",
      "metadata": {
        "id": "myPa1dfEoagz"
      },
      "source": [
        "### Play a sample"
      ]
    },
    {
      "cell_type": "markdown",
      "metadata": {
        "id": "1jecBYREgMk6"
      },
      "source": [
        "To be sure the dataset looks correct, let's play at a random sample from the test set:"
      ]
    },
    {
      "cell_type": "code",
      "execution_count": 11,
      "metadata": {
        "id": "gLC3ayJsoeNw"
      },
      "outputs": [],
      "source": [
        "def get_random_audio_file(samples_dir):\n",
        "  files = os.path.abspath(os.path.join(samples_dir, '*/*.wav'))\n",
        "  files_list = glob.glob(files)\n",
        "  random_audio_path = random.choice(files_list)\n",
        "  return random_audio_path\n",
        "\n",
        "def show_sample(audio_path):\n",
        "  audio_data, sample_rate = sf.read(audio_path)\n",
        "  class_name = os.path.basename(os.path.dirname(audio_path))\n",
        "  print(f'Class: {class_name}')\n",
        "  print(f'File: {audio_path}')\n",
        "  print(f'Sample rate: {sample_rate}')\n",
        "  print(f'Sample length: {len(audio_data)}')\n",
        "\n",
        "  plt.title(class_name)\n",
        "  plt.plot(audio_data)\n",
        "  display(Audio(audio_data, rate=sample_rate))"
      ]
    },
    {
      "cell_type": "code",
      "execution_count": 12,
      "metadata": {
        "id": "todbtEWFy0mj",
        "colab": {
          "base_uri": "https://localhost:8080/",
          "height": 409
        },
        "outputId": "3d0b622d-1390-41c0-fa1a-6a9f224d22bb"
      },
      "outputs": [
        {
          "output_type": "stream",
          "name": "stdout",
          "text": [
            "Class: go\n",
            "File: /content/dataset-test/go/c634a189_nohash_0.wav\n",
            "Sample rate: 16000\n",
            "Sample length: 16000\n"
          ]
        },
        {
          "output_type": "display_data",
          "data": {
            "text/plain": [
              "<IPython.lib.display.Audio object>"
            ],
            "text/html": [
              "\n",
              "                <audio  controls=\"controls\" >\n",
              "                    <source src=\"data:audio/wav;base64,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\" type=\"audio/wav\" />\n",
              "                    Your browser does not support the audio element.\n",
              "                </audio>\n",
              "              "
            ]
          },
          "metadata": {}
        },
        {
          "output_type": "display_data",
          "data": {
            "text/plain": [
              "<Figure size 432x288 with 1 Axes>"
            ],
            "image/png": "[encoded data removed]"
          },
          "metadata": {
            "needs_background": "light"
          }
        }
      ],
      "source": [
        "random_audio = get_random_audio_file(test_dir)\n",
        "show_sample(random_audio)"
      ]
    },
    {
      "cell_type": "markdown",
      "metadata": {
        "id": "f-jRIWcQv7xt"
      },
      "source": [
        "## Define the model"
      ]
    },
    {
      "cell_type": "markdown",
      "metadata": {
        "id": "pQj1Mf7YZELS"
      },
      "source": [
        "\n",
        "When using Model Maker to retrain any model, you have to start by defining a model spec. The spec defines the base model from which your new model will extract feature embeddings to begin learning new classes. The spec for this speech recognizer is based on the pre-trained [BrowserFft model from TFJS](https://github.com/tensorflow/tfjs-models/tree/master/speech-commands#speech-command-recognizer).\n",
        "\n",
        "The model expects input as an audio sample that's 44.1 kHz, and just under a second long: the exact sample length must be 44034 frames.\n",
        "\n",
        "You don't need to do any resampling with your training dataset. Model Maker takes care of that for you. But when you later run inference, you must be sure that your input matches that expected format.\n",
        "\n",
        "All you need to do here is instantiate the [`BrowserFftSpec`](https://www.tensorflow.org/lite/api_docs/python/tflite_model_maker/audio_classifier/BrowserFftSpec):\n"
      ]
    },
    {
      "cell_type": "code",
      "execution_count": 13,
      "metadata": {
        "id": "tUcxtfHXY7XS",
        "colab": {
          "base_uri": "https://localhost:8080/"
        },
        "outputId": "93b28783-f6a1-4611-ef51-9aba4ce32983"
      },
      "outputs": [
        {
          "output_type": "stream",
          "name": "stdout",
          "text": [
            "Downloading data from https://storage.googleapis.com/tfjs-models/tfjs/speech-commands/conversion/sc_preproc_model.tar.gz\n",
            "24576/18467 [=======================================] - 0s 0us/step\n",
            "32768/18467 [=====================================================] - 0s 0us/step\n"
          ]
        },
        {
          "output_type": "stream",
          "name": "stderr",
          "text": [
            "WARNING:tensorflow:SavedModel saved prior to TF 2.5 detected when loading Keras model. Please ensure that you are saving the model with model.save() or tf.keras.models.save_model(), *NOT* tf.saved_model.save(). To confirm, there should be a file named \"keras_metadata.pb\" in the SavedModel directory.\n",
            "WARNING:tensorflow:No training configuration found in save file, so the model was *not* compiled. Compile it manually.\n"
          ]
        },
        {
          "output_type": "stream",
          "name": "stdout",
          "text": [
            "Downloading data from https://storage.googleapis.com/tfjs-models/tfjs/speech-commands/v0.3/browser_fft/18w/metadata.json\n",
            "16384/203 [=====================================================================================================================================================================================================================================================================================================================================================================================================================================================================================================================================================================================================================================================================================================================================================================================================================================================================================================================================================================================================================================================================================================================================================================================================================================================================================================================================================================================================================================================================================================================================================================================================================================================================================================================================================================================================================================================================================================================================================================================================================================================================================================================================================================================================================================================================================================================================================================================================================================================================================================================] - 0s 0us/step\n",
            "Downloading data from https://storage.googleapis.com/tfjs-models/tfjs/speech-commands/v0.3/browser_fft/18w/model.json\n",
            "16384/5466 [=========================================================================================] - 0s 0us/step\n",
            "Downloading data from https://storage.googleapis.com/tfjs-models/tfjs/speech-commands/v0.3/browser_fft/18w/group1-shard1of2\n",
            "4194304/4194304 [==============================] - 0s 0us/step\n",
            "4202496/4194304 [==============================] - 0s 0us/step\n",
            "Downloading data from https://storage.googleapis.com/tfjs-models/tfjs/speech-commands/v0.3/browser_fft/18w/group1-shard2of2\n",
            "1687552/1680432 [==============================] - 0s 0us/step\n",
            "1695744/1680432 [==============================] - 0s 0us/step\n"
          ]
        }
      ],
      "source": [
        "spec = audio_classifier.BrowserFftSpec()"
      ]
    },
    {
      "cell_type": "markdown",
      "metadata": {
        "id": "maTOoRvAwI9l"
      },
      "source": [
        "## Load your dataset "
      ]
    },
    {
      "cell_type": "markdown",
      "metadata": {
        "id": "UASCEHoVwQ1q"
      },
      "source": [
        "Now you need to load your dataset according to the model specifications. Model Maker includes the [`DataLoader`](https://www.tensorflow.org/lite/api_docs/python/tflite_model_maker/audio_classifier/DataLoader) API, which will load your dataset from a folder and ensure it's in the expected format for the model spec.\n",
        "\n",
        "We already reserved some test files by moving them to a separate directory, which makes it easier to run inference with them later. Now we'll create a `DataLoader` for each split: the training set, the validation set, and the test set."
      ]
    },
    {
      "cell_type": "markdown",
      "metadata": {
        "id": "bAhAfHwiw2_F"
      },
      "source": [
        "#### Load the speech commands dataset\n"
      ]
    },
    {
      "cell_type": "code",
      "execution_count": 14,
      "metadata": {
        "id": "cX0RqETqZgzo"
      },
      "outputs": [],
      "source": [
        "if not use_custom_dataset:\n",
        "  train_data_ratio = 0.8\n",
        "  train_data = audio_classifier.DataLoader.from_folder(\n",
        "      spec, dataset_dir, cache=True)\n",
        "  train_data, validation_data = train_data.split(train_data_ratio)\n",
        "  test_data = audio_classifier.DataLoader.from_folder(\n",
        "      spec, test_dir, cache=True)"
      ]
    },
    {
      "cell_type": "markdown",
      "metadata": {
        "id": "2OWQ_O9_t-C-"
      },
      "source": [
        "#### Load a custom dataset"
      ]
    },
    {
      "cell_type": "markdown",
      "metadata": {
        "id": "IPiwaJwMt7yo"
      },
      "source": [
        "**Note:** Setting `cache=True` is important to make training faster (especially when the dataset must be re-sampled) but it will also require more RAM to hold the data. If you use a very large custom dataset, caching might exceed your RAM capacity."
      ]
    },
    {
      "cell_type": "code",
      "execution_count": 15,
      "metadata": {
        "cellView": "code",
        "id": "e86Ej-ZmuCzy"
      },
      "outputs": [],
      "source": [
        "if use_custom_dataset:\n",
        "  train_data_ratio = 0.8\n",
        "  train_data = audio_classifier.DataLoader.from_folder(\n",
        "      spec, dataset_dir, cache=True)\n",
        "  train_data, validation_data = train_data.split(train_data_ratio)\n",
        "  test_data = audio_classifier.DataLoader.from_folder(\n",
        "      spec, test_dir, cache=True)\n"
      ]
    },
    {
      "cell_type": "markdown",
      "metadata": {
        "id": "hh1P_zfzwbfE"
      },
      "source": [
        "## Train the model\n"
      ]
    },
    {
      "cell_type": "markdown",
      "metadata": {
        "id": "ziMghju-Rts2"
      },
      "source": [
        "Now we'll use the Model Maker [`create()`](https://www.tensorflow.org/lite/api_docs/python/tflite_model_maker/audio_classifier/create) function to create a model based on our model spec and training dataset, and begin training.\n",
        "\n",
        "If you're using a custom dataset, you might want to change the batch size as appropriate for the number of samples in your train set.\n",
        "\n",
        "**Note:** The first epoch takes longer because it must create the cache. "
      ]
    },
    {
      "cell_type": "code",
      "execution_count": 16,
      "metadata": {
        "id": "GYaZvaOPgLUC",
        "colab": {
          "base_uri": "https://localhost:8080/"
        },
        "outputId": "fe8503a2-8d76-4ef7-bc37-da2fe59078d9"
      },
      "outputs": [
        {
          "output_type": "stream",
          "name": "stdout",
          "text": [
            "Model: \"sequential_1\"\n",
            "_________________________________________________________________\n",
            " Layer (type)                Output Shape              Param #   \n",
            "=================================================================\n",
            " conv2d_1 (Conv2D)           (None, 42, 225, 8)        136       \n",
            "                                                                 \n",
            " max_pooling2d_1 (MaxPooling  (None, 21, 112, 8)       0         \n",
            " 2D)                                                             \n",
            "                                                                 \n",
            " conv2d_2 (Conv2D)           (None, 20, 109, 32)       2080      \n",
            "                                                                 \n",
            " max_pooling2d_2 (MaxPooling  (None, 10, 54, 32)       0         \n",
            " 2D)                                                             \n",
            "                                                                 \n",
            " conv2d_3 (Conv2D)           (None, 9, 51, 32)         8224      \n",
            "                                                                 \n",
            " max_pooling2d_3 (MaxPooling  (None, 4, 25, 32)        0         \n",
            " 2D)                                                             \n",
            "                                                                 \n",
            " conv2d_4 (Conv2D)           (None, 3, 22, 32)         8224      \n",
            "                                                                 \n",
            " max_pooling2d_4 (MaxPooling  (None, 2, 11, 32)        0         \n",
            " 2D)                                                             \n",
            "                                                                 \n",
            " flatten_1 (Flatten)         (None, 704)               0         \n",
            "                                                                 \n",
            " dropout_1 (Dropout)         (None, 704)               0         \n",
            "                                                                 \n",
            " dense_1 (Dense)             (None, 2000)              1410000   \n",
            "                                                                 \n",
            " dropout_2 (Dropout)         (None, 2000)              0         \n",
            "                                                                 \n",
            " classification_head (Dense)  (None, 9)                18009     \n",
            "                                                                 \n",
            "=================================================================\n",
            "Total params: 1,446,673\n",
            "Trainable params: 18,009\n",
            "Non-trainable params: 1,428,664\n",
            "_________________________________________________________________\n",
            "Epoch 1/25\n",
            "40/40 [==============================] - 76s 2s/step - loss: 1.9061 - acc: 0.5040 - val_loss: 0.5411 - val_acc: 0.8095\n",
            "Epoch 2/25\n",
            "40/40 [==============================] - 0s 10ms/step - loss: 0.7012 - acc: 0.7676 - val_loss: 0.3513 - val_acc: 0.8770\n",
            "Epoch 3/25\n",
            "40/40 [==============================] - 0s 10ms/step - loss: 0.4374 - acc: 0.8441 - val_loss: 0.3010 - val_acc: 0.9087\n",
            "Epoch 4/25\n",
            "40/40 [==============================] - 0s 10ms/step - loss: 0.3691 - acc: 0.8773 - val_loss: 0.2751 - val_acc: 0.9048\n",
            "Epoch 5/25\n",
            "40/40 [==============================] - 0s 10ms/step - loss: 0.3148 - acc: 0.9024 - val_loss: 0.2392 - val_acc: 0.9246\n",
            "Epoch 6/25\n",
            "40/40 [==============================] - 0s 10ms/step - loss: 0.2297 - acc: 0.9175 - val_loss: 0.2346 - val_acc: 0.9365\n",
            "Epoch 7/25\n",
            "40/40 [==============================] - 0s 10ms/step - loss: 0.2453 - acc: 0.9306 - val_loss: 0.2371 - val_acc: 0.9325\n",
            "Epoch 8/25\n",
            "40/40 [==============================] - 0s 11ms/step - loss: 0.1825 - acc: 0.9427 - val_loss: 0.2273 - val_acc: 0.9365\n",
            "Epoch 9/25\n",
            "40/40 [==============================] - 0s 10ms/step - loss: 0.1796 - acc: 0.9416 - val_loss: 0.2385 - val_acc: 0.9246\n",
            "Epoch 10/25\n",
            "40/40 [==============================] - 0s 11ms/step - loss: 0.1626 - acc: 0.9396 - val_loss: 0.2249 - val_acc: 0.9325\n",
            "Epoch 11/25\n",
            "40/40 [==============================] - 0s 10ms/step - loss: 0.1772 - acc: 0.9376 - val_loss: 0.2158 - val_acc: 0.9365\n",
            "Epoch 12/25\n",
            "40/40 [==============================] - 0s 11ms/step - loss: 0.1260 - acc: 0.9577 - val_loss: 0.2164 - val_acc: 0.9365\n",
            "Epoch 13/25\n",
            "40/40 [==============================] - 0s 11ms/step - loss: 0.1537 - acc: 0.9467 - val_loss: 0.2020 - val_acc: 0.9365\n",
            "Epoch 14/25\n",
            "40/40 [==============================] - 0s 10ms/step - loss: 0.1424 - acc: 0.9507 - val_loss: 0.2097 - val_acc: 0.9206\n",
            "Epoch 15/25\n",
            "40/40 [==============================] - 0s 10ms/step - loss: 0.1145 - acc: 0.9648 - val_loss: 0.2088 - val_acc: 0.9405\n",
            "Epoch 16/25\n",
            "40/40 [==============================] - 0s 10ms/step - loss: 0.1180 - acc: 0.9688 - val_loss: 0.2129 - val_acc: 0.9365\n",
            "Epoch 17/25\n",
            "40/40 [==============================] - 0s 10ms/step - loss: 0.0987 - acc: 0.9708 - val_loss: 0.2060 - val_acc: 0.9365\n",
            "Epoch 18/25\n",
            "40/40 [==============================] - 0s 10ms/step - loss: 0.0760 - acc: 0.9759 - val_loss: 0.2066 - val_acc: 0.9365\n",
            "Epoch 19/25\n",
            "40/40 [==============================] - 0s 11ms/step - loss: 0.1039 - acc: 0.9608 - val_loss: 0.2172 - val_acc: 0.9365\n",
            "Epoch 20/25\n",
            "40/40 [==============================] - 0s 10ms/step - loss: 0.0732 - acc: 0.9779 - val_loss: 0.2225 - val_acc: 0.9365\n",
            "Epoch 21/25\n",
            "40/40 [==============================] - 0s 10ms/step - loss: 0.0732 - acc: 0.9748 - val_loss: 0.2224 - val_acc: 0.9365\n",
            "Epoch 22/25\n",
            "40/40 [==============================] - 0s 10ms/step - loss: 0.0733 - acc: 0.9789 - val_loss: 0.2227 - val_acc: 0.9405\n",
            "Epoch 23/25\n",
            "40/40 [==============================] - 0s 11ms/step - loss: 0.0688 - acc: 0.9809 - val_loss: 0.2330 - val_acc: 0.9325\n",
            "Epoch 24/25\n",
            "40/40 [==============================] - 0s 11ms/step - loss: 0.0915 - acc: 0.9658 - val_loss: 0.2393 - val_acc: 0.9325\n",
            "Epoch 25/25\n",
            "40/40 [==============================] - 0s 10ms/step - loss: 0.0741 - acc: 0.9738 - val_loss: 0.2295 - val_acc: 0.9325\n"
          ]
        }
      ],
      "source": [
        "# If your dataset has fewer than 100 samples per class,\n",
        "# you might want to try a smaller batch size\n",
        "batch_size = 25\n",
        "epochs = 25\n",
        "model = audio_classifier.create(train_data, spec, validation_data, batch_size, epochs)"
      ]
    },
    {
      "cell_type": "markdown",
      "metadata": {
        "id": "mtLuRA2xweZA"
      },
      "source": [
        "## Review the model performance"
      ]
    },
    {
      "cell_type": "markdown",
      "metadata": {
        "id": "oXMEHZkAxJTl"
      },
      "source": [
        "Even if the accuracy/loss looks good from the training output above, it's important to also run the model using test data that the model has not seen yet, which is what the `evaluate()` method does here:"
      ]
    },
    {
      "cell_type": "code",
      "execution_count": 17,
      "metadata": {
        "id": "n_4MGpzhWVhr",
        "colab": {
          "base_uri": "https://localhost:8080/"
        },
        "outputId": "8f4c7ab0-78b7-4b05-c5bd-54256d6d06ea"
      },
      "outputs": [
        {
          "output_type": "stream",
          "name": "stdout",
          "text": [
            "8/8 [==============================] - 12s 1s/step - loss: 0.3337 - acc: 0.9240\n"
          ]
        },
        {
          "output_type": "execute_result",
          "data": {
            "text/plain": [
              "[0.33370810747146606, 0.9240000247955322]"
            ]
          },
          "metadata": {},
          "execution_count": 17
        }
      ],
      "source": [
        "model.evaluate(test_data)"
      ]
    },
    {
      "cell_type": "markdown",
      "metadata": {
        "id": "HqvpAnqsVExO"
      },
      "source": [
        "### View the confusion matrix"
      ]
    },
    {
      "cell_type": "markdown",
      "metadata": {
        "id": "8QRRAM39aOxS"
      },
      "source": [
        "When training a classification model such as this one, it's also useful to inspect the [confusion matrix](https://en.wikipedia.org/wiki/Confusion_matrix). The confusion matrix gives you detailed visual representation of how well your classifier performs for each classification in your test data."
      ]
    },
    {
      "cell_type": "code",
      "execution_count": 18,
      "metadata": {
        "id": "zqB3c0368iH3",
        "colab": {
          "base_uri": "https://localhost:8080/",
          "height": 465
        },
        "outputId": "3ef05676-0ef1-447c-c314-e7129a690c4a"
      },
      "outputs": [
        {
          "output_type": "display_data",
          "data": {
            "text/plain": [
              "<Figure size 432x432 with 1 Axes>"
            ],
            "image/png": "[encoded data removed]"
          },
          "metadata": {}
        }
      ],
      "source": [
        "def show_confusion_matrix(confusion, test_labels):\n",
        "  \"\"\"Compute confusion matrix and normalize.\"\"\"\n",
        "  confusion_normalized = confusion.astype(\"float\") / confusion.sum(axis=1)\n",
        "  sns.set(rc = {'figure.figsize':(6,6)})\n",
        "  sns.heatmap(\n",
        "      confusion_normalized, xticklabels=test_labels, yticklabels=test_labels,\n",
        "      cmap='Blues', annot=True, fmt='.2f', square=True, cbar=False)\n",
        "  plt.title(\"Confusion matrix\")\n",
        "  plt.ylabel(\"True label\")\n",
        "  plt.xlabel(\"Predicted label\")\n",
        "\n",
        "confusion_matrix = model.confusion_matrix(test_data)\n",
        "show_confusion_matrix(confusion_matrix.numpy(), test_data.index_to_label)"
      ]
    },
    {
      "cell_type": "markdown",
      "metadata": {
        "id": "yASrikBgZ9ZO"
      },
      "source": [
        "## Export the model\n",
        "\n",
        "The last step is exporting your model into the TensorFlow Lite format for execution on mobile/embedded devices and into the [SavedModel format](https://www.tensorflow.org/guide/saved_model) for execution elsewhere.\n",
        "\n",
        "When exporting a `.tflite` file from Model Maker, it includes [model metadata](https://www.tensorflow.org/lite/inference_with_metadata/overview) that describes various details that can later help during inference. It even includes a copy of the classification labels file, so you don't need to a separate `labels.txt` file. (In the next section, we show how to use this metadata to run an inference.)"
      ]
    },
    {
      "cell_type": "code",
      "execution_count": 19,
      "metadata": {
        "id": "4gEf59NfGWjq"
      },
      "outputs": [],
      "source": [
        "TFLITE_FILENAME = 'browserfft-speech.tflite'\n",
        "SAVE_PATH = './models'"
      ]
    },
    {
      "cell_type": "code",
      "execution_count": 20,
      "metadata": {
        "id": "Xw_ehPxAdQlz",
        "colab": {
          "base_uri": "https://localhost:8080/"
        },
        "outputId": "7e08d967-70ae-42e2-e7f8-bb070368e470"
      },
      "outputs": [
        {
          "output_type": "stream",
          "name": "stdout",
          "text": [
            "Exporing the model to ./models\n"
          ]
        },
        {
          "output_type": "stream",
          "name": "stderr",
          "text": [
            "WARNING:tensorflow:Compiled the loaded model, but the compiled metrics have yet to be built. `model.compile_metrics` will be empty until you train or evaluate the model.\n"
          ]
        }
      ],
      "source": [
        "print(f'Exporing the model to {SAVE_PATH}')\n",
        "model.export(SAVE_PATH, tflite_filename=TFLITE_FILENAME)\n",
        "model.export(SAVE_PATH, export_format=[mm.ExportFormat.SAVED_MODEL, mm.ExportFormat.LABEL])"
      ]
    },
    {
      "cell_type": "markdown",
      "metadata": {
        "id": "lIC1ddGq6xQX"
      },
      "source": [
        "## Run inference with TF Lite model"
      ]
    },
    {
      "cell_type": "markdown",
      "metadata": {
        "id": "5xr0idac6xfi"
      },
      "source": [
        "Now your TFLite model can be deployed and run using any of the supported [inferencing libraries](https://www.tensorflow.org/lite/guide/inference) or with the new [TFLite AudioClassifier Task API](https://www.tensorflow.org/lite/inference_with_metadata/task_library/audio_classifier). The following code shows how you can run inference with the `.tflite` model in Python."
      ]
    },
    {
      "cell_type": "code",
      "execution_count": 21,
      "metadata": {
        "id": "nR5zV53YbCIQ"
      },
      "outputs": [],
      "source": [
        "# This library provides the TFLite metadata API\n",
        "! pip install -q tflite_support"
      ]
    },
    {
      "cell_type": "code",
      "execution_count": 22,
      "metadata": {
        "id": "1AC7PRyiayU5"
      },
      "outputs": [],
      "source": [
        "from tflite_support import metadata\n",
        "import json\n",
        "\n",
        "def get_labels(model):\n",
        "  \"\"\"Returns a list of labels, extracted from the model metadata.\"\"\"\n",
        "  displayer = metadata.MetadataDisplayer.with_model_file(model)\n",
        "  labels_file = displayer.get_packed_associated_file_list()[0]\n",
        "  labels = displayer.get_associated_file_buffer(labels_file).decode()\n",
        "  return [line for line in labels.split('\\n')]\n",
        "\n",
        "def get_input_sample_rate(model):\n",
        "  \"\"\"Returns the model's expected sample rate, from the model metadata.\"\"\"\n",
        "  displayer = metadata.MetadataDisplayer.with_model_file(model)\n",
        "  metadata_json = json.loads(displayer.get_metadata_json())\n",
        "  input_tensor_metadata = metadata_json['subgraph_metadata'][0][\n",
        "          'input_tensor_metadata'][0]\n",
        "  input_content_props = input_tensor_metadata['content']['content_properties']\n",
        "  return input_content_props['sample_rate']"
      ]
    },
    {
      "cell_type": "markdown",
      "metadata": {
        "id": "yC7TEvQ9o4mu"
      },
      "source": [
        "To observe how well the model performs with real samples, run the following code block over and over. Each time, it will fetch a new test sample and run inference with it, and you can listen to the audio sample below."
      ]
    },
    {
      "cell_type": "code",
      "execution_count": 23,
      "metadata": {
        "id": "loU6PleipSPf",
        "colab": {
          "base_uri": "https://localhost:8080/",
          "height": 590
        },
        "outputId": "66afe706-f272-42a2-ee32-e76b86226e9f"
      },
      "outputs": [
        {
          "output_type": "stream",
          "name": "stdout",
          "text": [
            "---prediction---\n",
            "Class: background\n",
            "Score: 0.99998939037323\n",
            "----truth----\n",
            "Class: background\n",
            "File: /content/dataset-test/background/white_noise18.wav\n",
            "Sample rate: 16000\n",
            "Sample length: 16000\n"
          ]
        },
        {
          "output_type": "display_data",
          "data": {
            "text/plain": [
              "<IPython.lib.display.Audio object>"
            ],
            "text/html": [
              "\n",
              "                <audio  controls=\"controls\" >\n",
              "                    <source src=\"data:audio/wav;base64,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\" type=\"audio/wav\" />\n",
              "                    Your browser does not support the audio element.\n",
              "                </audio>\n",
              "              "
            ]
          },
          "metadata": {}
        },
        {
          "output_type": "display_data",
          "data": {
            "text/plain": [
              "<Figure size 432x432 with 1 Axes>"
            ],
            "image/png": "[encoded data removed]"
          },
          "metadata": {}
        }
      ],
      "source": [
        "# Get a WAV file for inference and list of labels from the model\n",
        "tflite_file = os.path.join(SAVE_PATH, TFLITE_FILENAME)\n",
        "labels = get_labels(tflite_file)\n",
        "random_audio = get_random_audio_file(test_dir)\n",
        "\n",
        "# Ensure the audio sample fits the model input\n",
        "interpreter = tf.lite.Interpreter(tflite_file)\n",
        "input_details = interpreter.get_input_details()\n",
        "output_details = interpreter.get_output_details()\n",
        "input_size = input_details[0]['shape'][1]\n",
        "sample_rate = get_input_sample_rate(tflite_file)\n",
        "audio_data, _ = librosa.load(random_audio, sr=sample_rate)\n",
        "if len(audio_data) < input_size:\n",
        "  audio_data.resize(input_size)\n",
        "audio_data = np.expand_dims(audio_data[:input_size], axis=0)\n",
        "\n",
        "# Run inference\n",
        "interpreter.allocate_tensors()\n",
        "interpreter.set_tensor(input_details[0]['index'], audio_data)\n",
        "interpreter.invoke()\n",
        "output_data = interpreter.get_tensor(output_details[0]['index'])\n",
        "\n",
        "# Display prediction and ground truth\n",
        "top_index = np.argmax(output_data[0])\n",
        "label = labels[top_index]\n",
        "score = output_data[0][top_index]\n",
        "print('---prediction---')\n",
        "print(f'Class: {label}\\nScore: {score}')\n",
        "print('----truth----')\n",
        "show_sample(random_audio)"
      ]
    },
    {
      "cell_type": "markdown",
      "metadata": {
        "id": "VtmfoJW6G2fd"
      },
      "source": [
        "## Download the TF Lite model"
      ]
    },
    {
      "cell_type": "markdown",
      "metadata": {
        "id": "8zLDeiQ_z2Vj"
      },
      "source": [
        "Now you can deploy the TF Lite model to your mobile or embedded device. You don't need to download the labels file because you can instead retrieve the labels from `.tflite` file metadata, as shown in the previous inferencing example."
      ]
    },
    {
      "cell_type": "code",
      "execution_count": 24,
      "metadata": {
        "id": "cNuQoqtjG4zu",
        "colab": {
          "base_uri": "https://localhost:8080/",
          "height": 17
        },
        "outputId": "e7a5ba52-469d-409d-b7c5-fa1c3a598725"
      },
      "outputs": [
        {
          "output_type": "display_data",
          "data": {
            "text/plain": [
              "<IPython.core.display.Javascript object>"
            ],
            "application/javascript": [
              "\n",
              "    async function download(id, filename, size) {\n",
              "      if (!google.colab.kernel.accessAllowed) {\n",
              "        return;\n",
              "      }\n",
              "      const div = document.createElement('div');\n",
              "      const label = document.createElement('label');\n",
              "      label.textContent = `Downloading \"${filename}\": `;\n",
              "      div.appendChild(label);\n",
              "      const progress = document.createElement('progress');\n",
              "      progress.max = size;\n",
              "      div.appendChild(progress);\n",
              "      document.body.appendChild(div);\n",
              "\n",
              "      const buffers = [];\n",
              "      let downloaded = 0;\n",
              "\n",
              "      const channel = await google.colab.kernel.comms.open(id);\n",
              "      // Send a message to notify the kernel that we're ready.\n",
              "      channel.send({})\n",
              "\n",
              "      for await (const message of channel.messages) {\n",
              "        // Send a message to notify the kernel that we're ready.\n",
              "        channel.send({})\n",
              "        if (message.buffers) {\n",
              "          for (const buffer of message.buffers) {\n",
              "            buffers.push(buffer);\n",
              "            downloaded += buffer.byteLength;\n",
              "            progress.value = downloaded;\n",
              "          }\n",
              "        }\n",
              "      }\n",
              "      const blob = new Blob(buffers, {type: 'application/binary'});\n",
              "      const a = document.createElement('a');\n",
              "      a.href = window.URL.createObjectURL(blob);\n",
              "      a.download = filename;\n",
              "      div.appendChild(a);\n",
              "      a.click();\n",
              "      div.remove();\n",
              "    }\n",
              "  "
            ]
          },
          "metadata": {}
        },
        {
          "output_type": "display_data",
          "data": {
            "text/plain": [
              "<IPython.core.display.Javascript object>"
            ],
            "application/javascript": [
              "download(\"download_9926f7f7-53e9-4c68-8329-817d88ff234c\", \"browserfft-speech.tflite\", 5814462)"
            ]
          },
          "metadata": {}
        }
      ],
      "source": [
        "try:\n",
        "  from google.colab import files\n",
        "except ImportError:\n",
        "  pass\n",
        "else:\n",
        "  files.download(tflite_file)"
      ]
    },
    {
      "cell_type": "markdown",
      "metadata": {
        "id": "iERuGZz4z6rB"
      },
      "source": [
        "Check out our end-to-end example apps that perform inferencing with TFLite audio models on [Android](https://github.com/tensorflow/examples/tree/master/lite/examples/sound_classification/android/) and [iOS](https://github.com/tensorflow/examples/tree/master/lite/examples/sound_classification/ios)."
      ]
    }
  ],
  "metadata": {
    "accelerator": "GPU",
    "colab": {
      "collapsed_sections": [],
      "provenance": [],
      "include_colab_link": true
    },
    "kernelspec": {
      "display_name": "Python 3",
      "name": "python3"
    }
  },
  "nbformat": 4,
  "nbformat_minor": 0
}